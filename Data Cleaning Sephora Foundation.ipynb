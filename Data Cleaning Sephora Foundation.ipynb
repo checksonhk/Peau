{
 "cells": [
  {
   "cell_type": "code",
   "execution_count": 29,
   "metadata": {},
   "outputs": [],
   "source": [
    "import pandas as pd\n",
    "import numpy as np\n",
    "import os\n",
    "import warnings\n",
    "import datetime"
   ]
  },
  {
   "cell_type": "code",
   "execution_count": 30,
   "metadata": {},
   "outputs": [],
   "source": [
    "warnings.filterwarnings(\"ignore\")\n",
    "\n",
    "#set working dir\n",
    "os.chdir('C:/Users/Jackson/Documents/Data Science/Sephora Scraper_Attempts')\n",
    "#read in review data\n",
    "review_db = pd.read_csv('sephora_review_db.csv')\n",
    "\n",
    "#remove products that arent foundations\n",
    "not_foundations = [\"Capture Dreamskin Fresh & Perfect Cushion Broad Spectrum SPF 50 Refill\",\n",
    "                  \"Double Wear Stay-In-Place Foundation Pump\",\n",
    "                  \"Teint Idole Ultra Longwear Cushion Foundation SPF 50 Refill\",\n",
    "                  \"Chromatic Mix - Oil Base\",\n",
    "                   \"Chromatic Mix - Water Base\"\n",
    "                  \"Liquid Foundation Pump\"]\n",
    "\n",
    "df = review_db[~(review_db[\"name\"].isin(not_foundations))]"
   ]
  },
  {
   "cell_type": "markdown",
   "metadata": {},
   "source": [
    "remove any products that Sephora categories in the foundation category but is not a foundation."
   ]
  },
  {
   "cell_type": "code",
   "execution_count": 54,
   "metadata": {},
   "outputs": [],
   "source": [
    "#Add Product Info as specified by Sephora\n",
    "\n",
    "#Coverage\n",
    "df['coverage'] = [i.split(\"Coverage:\", 1)[1].split(\" \")[1] if \"Coverage:\" in i else '' for i in df[\"description\"]]\n",
    "df['coverage'] = [i.split('Skin')[0].split('Finish')[0] for i in df['coverage']]\n",
    "df['coverage'] = [i if i in (['Medium', 'Light', 'Full']) else float(\"Nan\") for i in df[\"coverage\"]]\n",
    "\n",
    "#Finish \n",
    "df['finish'] = [i.split('Finish:', 1)[1].split(' ')[1].split('x')[0].split('SPF')[0].split('What')[0].split('Formulation')[0] if \"Finish:\" in i else '' for i in df['description']]\n",
    "df['finish'] = [i if i in ['Matte', 'Natural', 'Radiant'] else float('Nan') for i in df['finish']]\n",
    "\n",
    "#Formulation\n",
    "df['formulation'] = [i.split('Formulation:')[1].split(' ')[1] if 'Formulation:' in i else float('Nan') for i in df['description']]\n",
    "\n",
    "x = [i if 'Skin Type:' in i else '' for i in df['description']]\n",
    "\n",
    "df['normal_skin'] = [True if \"Normal\" in i else False for i in x]\n",
    "df['oily_skin'] = [True if \"Oily\" in i else False for i in x]\n",
    "df['combo_skin'] = [True if 'Combination' in i else False for i in x]\n",
    "df['dry_skin'] = [True if 'Dry' in i else False for i in x]\n",
    "\n",
    "#SPF\n",
    "df['SPF'] = [\"SPF\" in i for i in df['name']]\n"
   ]
  },
  {
   "cell_type": "markdown",
   "metadata": {},
   "source": [
    "Extract the information from the description column eg. Coverage type, finish, formulation and spf. "
   ]
  },
  {
   "cell_type": "code",
   "execution_count": 55,
   "metadata": {},
   "outputs": [
    {
     "data": {
      "text/plain": [
       "brand                    object\n",
       "name                     object\n",
       "brand_id                  int64\n",
       "brand_image_url          object\n",
       "product_id               object\n",
       "product_image_url        object\n",
       "rating                    int64\n",
       "skin_type                object\n",
       "eye_color                object\n",
       "skin_concerns            object\n",
       "incentivized_review      object\n",
       "skin_tone                object\n",
       "age                      object\n",
       "beauty_insider           object\n",
       "user_name                object\n",
       "review_text              object\n",
       "price                    object\n",
       "recommended              object\n",
       "first_submission_date    object\n",
       "last_submission_date     object\n",
       "location                 object\n",
       "description              object\n",
       "coverage                 object\n",
       "finish                   object\n",
       "normal_skin                bool\n",
       "oily_skin                  bool\n",
       "combo_skin                 bool\n",
       "dry_skin                   bool\n",
       "SPF                        bool\n",
       "formulation              object\n",
       "dtype: object"
      ]
     },
     "execution_count": 55,
     "metadata": {},
     "output_type": "execute_result"
    }
   ],
   "source": [
    "df.dtypes"
   ]
  },
  {
   "cell_type": "code",
   "execution_count": 58,
   "metadata": {},
   "outputs": [],
   "source": [
    "#reformat to float and get rid of price ranges and dollar signs\n",
    "df['price'] = df['price'].astype(str)\n",
    "df['price'] = [i[-6:] for i in df['price']]\n",
    "df['price'] = [float(i.replace(\"$\", \"\")) for i in df['price']]\n",
    "\n",
    "#change submission time data to datetime\n",
    "df['first_submission_date'] = [datetime.datetime.strptime(i[:19], '%Y-%m-%dT%H:%M:%S') for i in df['first_submission_date']]\n",
    "df['last_submission_date'] = [datetime.datetime.strptime(i[:19], '%Y-%m-%dT%H:%M:%S') for i in df['last_submission_date']]\n"
   ]
  },
  {
   "cell_type": "code",
   "execution_count": 60,
   "metadata": {},
   "outputs": [],
   "source": [
    "df_export = df[['brand', 'name', 'product_id', 'coverage','finish', 'formulation','normal_skin','oily_skin', 'combo_skin',\n",
    "               'dry_skin', 'SPF', 'user_name', 'rating', 'recommended', 'skin_type', 'eye_color', 'skin_tone', 'skin_concerns',\n",
    "                'age', 'beauty_insider', 'price','first_submission_date', 'last_submission_date', 'location', 'incentivized_review', \n",
    "               'review_text', 'brand_image_url', 'product_image_url']]\n",
    "df_export.to_csv('C:/Users/Jackson/Documents/Data Science/Sephora Scraper_Attempts/sephora_reviews_cleaned.csv', index = False)"
   ]
  },
  {
   "cell_type": "code",
   "execution_count": null,
   "metadata": {},
   "outputs": [],
   "source": []
  }
 ],
 "metadata": {
  "kernelspec": {
   "display_name": "Python 3",
   "language": "python",
   "name": "python3"
  },
  "language_info": {
   "codemirror_mode": {
    "name": "ipython",
    "version": 3
   },
   "file_extension": ".py",
   "mimetype": "text/x-python",
   "name": "python",
   "nbconvert_exporter": "python",
   "pygments_lexer": "ipython3",
   "version": "3.7.1"
  }
 },
 "nbformat": 4,
 "nbformat_minor": 2
}
